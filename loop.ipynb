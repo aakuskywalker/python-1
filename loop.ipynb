{
 "cells": [
  {
   "cell_type": "markdown",
   "id": "07259004-e70a-40a7-84a8-9b9a283beb2e",
   "metadata": {
    "tags": []
   },
   "source": [
    "# Fundamentals"
   ]
  },
  {
   "cell_type": "markdown",
   "id": "980f684e-bc90-48c7-b536-84e2a4dd1d2f",
   "metadata": {},
   "source": [
    "# Looping Statements"
   ]
  },
  {
   "cell_type": "markdown",
   "id": "8fa24d0b-f26e-4669-8c2e-a905326c9d3f",
   "metadata": {},
   "source": [
    "## while loop"
   ]
  },
  {
   "cell_type": "code",
   "execution_count": null,
   "id": "b928284d-cdbc-4c50-9e5d-38dea7a0c65c",
   "metadata": {},
   "outputs": [],
   "source": [
    "print (\"Hello\")\n"
   ]
  },
  {
   "cell_type": "code",
   "execution_count": null,
   "id": "eb9040cc-bb1b-469e-ac93-28b0b9292e10",
   "metadata": {},
   "outputs": [],
   "source": []
  },
  {
   "cell_type": "code",
   "execution_count": null,
   "id": "3d152085-5402-484e-a62f-3c116bce4094",
   "metadata": {},
   "outputs": [],
   "source": []
  }
 ],
 "metadata": {
  "kernelspec": {
   "display_name": "Python 3 (ipykernel)",
   "language": "python",
   "name": "python3"
  },
  "language_info": {
   "name": ""
  }
 },
 "nbformat": 4,
 "nbformat_minor": 5
}
