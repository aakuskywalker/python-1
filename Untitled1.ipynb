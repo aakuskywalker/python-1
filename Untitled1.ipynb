{
 "cells": [
  {
   "cell_type": "code",
   "execution_count": null,
   "id": "9dda98eb-24d3-4e86-aa0a-1fdeabe21719",
   "metadata": {},
   "outputs": [],
   "source": [
    "print(\"Hello)\n"
   ]
  },
  {
   "cell_type": "code",
   "execution_count": null,
   "id": "5c34f338-ddbb-4a77-b6c6-a0b07afaf4da",
   "metadata": {},
   "outputs": [],
   "source": []
  },
  {
   "cell_type": "code",
   "execution_count": null,
   "id": "acab4f05-41c3-4990-ae63-5c0560005a23",
   "metadata": {},
   "outputs": [],
   "source": []
  }
 ],
 "metadata": {
  "kernelspec": {
   "display_name": "Python 3 (ipykernel)",
   "language": "python",
   "name": "python3"
  },
  "language_info": {
   "name": ""
  }
 },
 "nbformat": 4,
 "nbformat_minor": 5
}
