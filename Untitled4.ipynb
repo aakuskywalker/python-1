{
 "cells": [
  {
   "cell_type": "code",
   "execution_count": null,
   "id": "37ee41fb-f0d6-4b29-8046-561b7dbb9ab1",
   "metadata": {},
   "outputs": [],
   "source": [
    "print(\"hello\")"
   ]
  },
  {
   "cell_type": "code",
   "execution_count": null,
   "id": "c36e0077-91c9-451c-b7e4-a3d91cd3ebf3",
   "metadata": {},
   "outputs": [],
   "source": []
  }
 ],
 "metadata": {
  "kernelspec": {
   "display_name": "Python 3 (ipykernel)",
   "language": "python",
   "name": "python3"
  },
  "language_info": {
   "name": ""
  }
 },
 "nbformat": 4,
 "nbformat_minor": 5
}
